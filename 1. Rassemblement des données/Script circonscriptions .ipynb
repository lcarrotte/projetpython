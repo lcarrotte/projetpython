{
 "cells": [
  {
   "cell_type": "markdown",
   "metadata": {},
   "source": [
    "# Importation des données "
   ]
  },
  {
   "cell_type": "code",
   "execution_count": 1,
   "metadata": {},
   "outputs": [],
   "source": [
    "import numpy as np\n",
    "import pandas as pd\n",
    "import matplotlib.pyplot as plt\n",
    "circo_leg2 = pd.read_excel('Leg_2017_Resultats_T2_c.xlsx', sheet_name = 'Circo. leg. T2', header = 2)\n",
    "circo_leg1 = pd.read_excel('Leg_2017_Resultats_T1_c.xlsx', sheet_name = 'Circo. leg. T1', header = 2)\n",
    "sociodemographie = pd.read_excel('indic-stat-2013-circonscriptions-legislatives.xls', sheet_name = 'indicateurs-circonscriptions', header = 6)"
   ]
  },
  {
   "cell_type": "markdown",
   "metadata": {},
   "source": [
    "# Fusion des bases"
   ]
  },
  {
   "cell_type": "code",
   "execution_count": 2,
   "metadata": {},
   "outputs": [],
   "source": [
    "circo = pd.merge(circo_leg2, circo_leg1, on=['Code du département', 'Code de la circonscription'])\n",
    "circo[\"Code du département\"] = [s if len(str(s)) == 2 else \"0\" + str(s) for s in circo[\"Code du département\"]]\n",
    "circo[\"Code de la circonscription\"] = [s if len(str(s)) == 2 else \"0\" + str(s) for s in circo[\"Code de la circonscription\"]]\n",
    "circo[\"DEPCIR\"] = circo[\"Code du département\"].astype(str) + circo[\"Code de la circonscription\"].astype(str)\n",
    "basefinale = pd.merge(circo, sociodemographie, on = \"DEPCIR\", how = \"left\")"
   ]
  },
  {
   "cell_type": "markdown",
   "metadata": {},
   "source": [
    "# Nettoyage de la base "
   ]
  },
  {
   "cell_type": "code",
   "execution_count": 3,
   "metadata": {},
   "outputs": [],
   "source": [
    "#for name in ['Libellé du département', 'Libellé de la circonscription'] : \n",
    "    #basefinale.drop(name, 1, inplace = True)\n",
    "basefinale.dropna(axis=1, how='all', inplace=True)"
   ]
  },
  {
   "cell_type": "code",
   "execution_count": 4,
   "metadata": {},
   "outputs": [],
   "source": [
    "basefinale.to_csv(\"basefinale.csv\", \";\")"
   ]
  },
  {
   "cell_type": "markdown",
   "metadata": {},
   "source": [
    "# Transformation en pourcentages"
   ]
  },
  {
   "cell_type": "code",
   "execution_count": 10,
   "metadata": {},
   "outputs": [],
   "source": [
    "basefinale = basefinale.fillna(\"0\")\n",
    "for name in [\"P13_Pop15P\", \"C13_Pop15P_cs1\", \"C13_Pop15P_cs2\", \"C13_Pop15P_cs3\", \"C13_Pop15P_cs4\", \"C13_Pop15P_cs5\", \"C13_Pop15P_cs6\", \"C13_Pop15P_cs7\", \"C13_Pop15P_cs8\"]:\n",
    "    basefinale[name] = (basefinale[name].astype(int))/(basefinale[\"P13_Pop15P\"].astype(int))*100\n",
    "for name in [\"C13_H15P\", \"C13_H15P_cs1\", \"C13_H15P_cs2\", \"C13_H15P_cs3\", \"C13_H15P_cs4\",\"C13_H15P_cs5\", \"C13_H15P_cs6\", \"C13_H15P_cs7\", \"C13_H15P_cs8\"]:\n",
    "    basefinale[name] = basefinale[name].astype(int)/basefinale[\"C13_H15P\"].astype(int)*100 \n",
    "for name in [\"C13_F15P\", \"C13_F15P_cs1\", \"C13_F15P_cs2\", \"C13_F15P_cs3\", \"C13_F15P_cs4\", \"C13_F15P_cs5\",\"C13_F15P_cs6\", \"C13_F15P_cs7\", \"C13_F15P_cs8\"]: \n",
    "    basefinale[name] = basefinale[name].astype(int)/basefinale[\"C13_F15P\"].astype(int)*100 \n",
    "for name in [\"P13_pop\", \"P13_pop0002\", \"P13_pop0305\", \"P13_pop0610\", \"P13_pop1117\", \"P13_pop1824\", \"P13_pop2539\", \"P13_pop4054\", \"P13_pop5564\", \"P13_pop6579\", \"P13_pop80p\", \"P13_pop0019\", \"P13_pop2064\", \"P13_pop65P\"] : \n",
    "    basefinale[name] = basefinale[name].astype(int)/basefinale[\"P13_pop\"].astype(int)*100  \n",
    "for name in [\"P13_poph\", \"P13_h0019\", \"P13_h2064\", \"P13_h65p\"] :\n",
    "    basefinale[name] = basefinale[name].astype(int)/basefinale[\"P13_poph\"].astype(int)*100 \n",
    "for name in [\"P13_popf\", \"P13_f0019\", \"P13_f2064\", \"P13_f65p\"] :\n",
    "    basefinale[name] = basefinale[name].astype(int)/basefinale[\"P13_popf\"].astype(int)*100 \n",
    "for name in [\"P13_pop\", \"P13_pop_fr\",\"P13_pop_etr\"] : \n",
    "    basefinale[name] = basefinale[name].astype(int)/basefinale[\"P13_pop\"].astype(int)*100 "
   ]
  },
  {
   "cell_type": "code",
   "execution_count": 12,
   "metadata": {},
   "outputs": [
    {
     "data": {
      "text/plain": [
       "0      9.910000e+02\n",
       "1      5.290000e+02\n",
       "2      3.660000e+02\n",
       "3      1.206000e+03\n",
       "4      6.040000e+02\n",
       "           ...     \n",
       "568    1.000000e+09\n",
       "569    1.000000e+09\n",
       "570    1.000000e+09\n",
       "571    1.000000e+09\n",
       "572    1.000000e+09\n",
       "Name: C13_Pop15P_cs1, Length: 573, dtype: float64"
      ]
     },
     "execution_count": 12,
     "metadata": {},
     "output_type": "execute_result"
    }
   ],
   "source": [
    "basefinale[\"C13_Pop15P_cs1\"]"
   ]
  },
  {
   "cell_type": "code",
   "execution_count": 7,
   "metadata": {},
   "outputs": [],
   "source": []
  },
  {
   "cell_type": "code",
   "execution_count": null,
   "metadata": {},
   "outputs": [],
   "source": []
  }
 ],
 "metadata": {
  "kernelspec": {
   "display_name": "Python 3",
   "language": "python",
   "name": "python3"
  },
  "language_info": {
   "codemirror_mode": {
    "name": "ipython",
    "version": 3
   },
   "file_extension": ".py",
   "mimetype": "text/x-python",
   "name": "python",
   "nbconvert_exporter": "python",
   "pygments_lexer": "ipython3",
   "version": "3.8.5"
  }
 },
 "nbformat": 4,
 "nbformat_minor": 4
}
