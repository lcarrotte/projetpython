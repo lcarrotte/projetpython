{
 "cells": [
  {
   "cell_type": "markdown",
   "metadata": {},
   "source": [
    "# Importation des données"
   ]
  },
  {
   "cell_type": "code",
   "execution_count": 19,
   "metadata": {},
   "outputs": [
    {
     "data": {
      "text/plain": [
       "Index(['nom', 'nom_de_famille', 'prenom', 'sexe', 'date_naissance',\n",
       "       'num_deptmt', 'nom_circo', 'num_circo', 'mandat_debut', 'mandat_fin',\n",
       "       'ancien_depute', 'groupe_sigle', 'parti_ratt_financier',\n",
       "       'autres_mandats', 'anciens_autres_mandats', 'nb_mandats', 'twitter',\n",
       "       'ville_naissance', 'dep_naissance', 'profession', 'cat_soc_pro',\n",
       "       'patrimoine', 'ancrage_local', 'DEPSIR'],\n",
       "      dtype='object')"
      ]
     },
     "execution_count": 19,
     "metadata": {},
     "output_type": "execute_result"
    }
   ],
   "source": [
    "import seaborn as sns\n",
    "import pandas as pd\n",
    "import matplotlib.pyplot as plt\n",
    "\n",
    "circo = pd.read_csv(\"/Users/louise/Documents/GitHub/projetpython/1. Rassemblement des données/basefinale.csv\", \";\")\n",
    "deputes = pd.read_csv(\"/Users/louise/Documents/GitHub/projetpython/1. Rassemblement des données/caract_deputes.csv\", \";\")\n",
    "deputes[\"cat_soc_pro\"] = deputes[\"cat_soc_pro\"].fillna(\"Inconnue\")\n",
    "participation = pd.read_csv(\"/Users/louise/Documents/GitHub/projetpython/1. Rassemblement des données/participation.csv\", \";\")\n",
    "tab_final=participation.drop(columns=['mois','annee']).groupby('nom').sum().reset_index()\n",
    "basevraimentfinale = pd.merge(deputes, circo, on=['DEPSIR'], how='left')\n",
    "basevraimentfinale = pd.merge(basevraimentfinale, tab_final, on=['nom'], how='left')\n",
    "deputes.columns"
   ]
  },
  {
   "cell_type": "markdown",
   "metadata": {},
   "source": [
    "# Création des barplots"
   ]
  },
  {
   "cell_type": "code",
   "execution_count": 26,
   "metadata": {},
   "outputs": [
    {
     "ename": "AttributeError",
     "evalue": "'OneHotEncoder' object has no attribute 'categories_'",
     "output_type": "error",
     "traceback": [
      "\u001b[0;31m---------------------------------------------------------------------------\u001b[0m",
      "\u001b[0;31mAttributeError\u001b[0m                            Traceback (most recent call last)",
      "\u001b[0;32m<ipython-input-26-4eac3ed38f31>\u001b[0m in \u001b[0;36m<module>\u001b[0;34m\u001b[0m\n\u001b[1;32m      2\u001b[0m \u001b[0menc\u001b[0m \u001b[0;34m=\u001b[0m \u001b[0mOneHotEncoder\u001b[0m\u001b[0;34m(\u001b[0m\u001b[0mhandle_unknown\u001b[0m\u001b[0;34m=\u001b[0m\u001b[0;34m'ignore'\u001b[0m\u001b[0;34m)\u001b[0m\u001b[0;34m\u001b[0m\u001b[0;34m\u001b[0m\u001b[0m\n\u001b[1;32m      3\u001b[0m \u001b[0mpcs\u001b[0m \u001b[0;34m=\u001b[0m \u001b[0mbasevraimentfinale\u001b[0m\u001b[0;34m[\u001b[0m\u001b[0;34m'cat_soc_pro'\u001b[0m\u001b[0;34m]\u001b[0m\u001b[0;34m\u001b[0m\u001b[0;34m\u001b[0m\u001b[0m\n\u001b[0;32m----> 4\u001b[0;31m enc.categories_[array(['Professions libérales et assimilés', 'Commerçants et assimilés',\n\u001b[0m\u001b[1;32m      5\u001b[0m        \u001b[0;34m\"Cadres d'entreprise\"\u001b[0m\u001b[0;34m,\u001b[0m \u001b[0;34m\"Chefs d'entreprise de 10 salariés ou plus\"\u001b[0m\u001b[0;34m,\u001b[0m\u001b[0;34m\u001b[0m\u001b[0;34m\u001b[0m\u001b[0m\n\u001b[1;32m      6\u001b[0m        \u001b[0;34m'Cadres de la fonction publique, professions intellectuelles et  artistiques'\u001b[0m\u001b[0;34m,\u001b[0m\u001b[0;34m\u001b[0m\u001b[0;34m\u001b[0m\u001b[0m\n",
      "\u001b[0;31mAttributeError\u001b[0m: 'OneHotEncoder' object has no attribute 'categories_'"
     ]
    }
   ],
   "source": [
    "from sklearn.preprocessing import OneHotEncoder\n",
    "enc = OneHotEncoder(handle_unknown='ignore')\n",
    "pcs = basevraimentfinale['cat_soc_pro']\n",
    "enc.categories_[array(['Professions libérales et assimilés', 'Commerçants et assimilés',\n",
    "       \"Cadres d'entreprise\", \"Chefs d'entreprise de 10 salariés ou plus\",\n",
    "       'Cadres de la fonction publique, professions intellectuelles et  artistiques',\n",
    "       'Artisans',\n",
    "       \"Professions intermédiaires de l'enseignement, de la santé, de la fonction publique et assimilés\",\n",
    "       'Employés de la fonction publique', 'Sans profession déclarée',\n",
    "       'Agriculteurs exploitants', \"Employés administratifs d'entreprise\",\n",
    "       'Employés de commerce', 'Contremaîtres, agents de maîtrise',\n",
    "       'Ouvriers agricoles', 'Anciens employés et ouvriers',\n",
    "       'Ouvriers qualifiés',\n",
    "       'Anciens cadres et professions intermédiaires',\n",
    "       'Professions intermédiaires administratives et commerciales des entreprises',\n",
    "       'Anciens agriculteurs exploitants',\n",
    "       \"Anciens artisans, commerçants, chefs d'entreprise\",\n",
    "       'Inactifs divers (autres que retraités)', \"Inconnue\"], dtype=object), array([1, 2, 3, 4, 5, 6, 7, 8, 9, 10, 11, 12, 13, 14, 15, 16, 17, 18, 19, 20, 21, 22], dtype=object)]\n",
    "\n",
    "pcs_dep = sns.histplot(data = deputes, x = \"pcs\", stat='count')"
   ]
  },
  {
   "cell_type": "code",
   "execution_count": null,
   "metadata": {},
   "outputs": [],
   "source": [
    "sexe_depute = sns.histplot(data = deputes, x = \"sexe\", stat='probability')"
   ]
  },
  {
   "cell_type": "code",
   "execution_count": null,
   "metadata": {},
   "outputs": [],
   "source": [
    "ancrage_local_depute = sns.histplot(data = deputes, x = \"ancrage_local\", stat='probability')"
   ]
  },
  {
   "cell_type": "code",
   "execution_count": null,
   "metadata": {},
   "outputs": [],
   "source": [
    "deputes['annee_naissance'] = deputes['date_naissance'].str[:4]\n",
    "annee_naiss_dep = sns.histplot(data = deputes, x = \"annee_naissance\", stat='count', bins = 10)"
   ]
  },
  {
   "cell_type": "code",
   "execution_count": null,
   "metadata": {},
   "outputs": [],
   "source": [
    "nb_mandats_dep = sns.histplot(data = basevraimentfinale, x = 'nb_mandats', stat='probability')"
   ]
  },
  {
   "cell_type": "code",
   "execution_count": null,
   "metadata": {},
   "outputs": [],
   "source": [
    "#ancien_depute = sns.histplot(data = basevraimentfinale, x = 'ancien_depute', stat='probability')"
   ]
  },
  {
   "cell_type": "markdown",
   "metadata": {},
   "source": [
    "# Création des pairplots et heatmap"
   ]
  },
  {
   "cell_type": "code",
   "execution_count": null,
   "metadata": {},
   "outputs": [],
   "source": [
    "essai = basevraimenfinale.iloc[:,[0,2]])\n",
    "\n",
    "= sns.heatmap(basevraimentfinale, )"
   ]
  },
  {
   "cell_type": "code",
   "execution_count": null,
   "metadata": {},
   "outputs": [],
   "source": []
  },
  {
   "cell_type": "code",
   "execution_count": null,
   "metadata": {},
   "outputs": [],
   "source": []
  }
 ],
 "metadata": {
  "kernelspec": {
   "display_name": "Python 3",
   "language": "python",
   "name": "python3"
  },
  "language_info": {
   "codemirror_mode": {
    "name": "ipython",
    "version": 3
   },
   "file_extension": ".py",
   "mimetype": "text/x-python",
   "name": "python",
   "nbconvert_exporter": "python",
   "pygments_lexer": "ipython3",
   "version": "3.8.5"
  }
 },
 "nbformat": 4,
 "nbformat_minor": 4
}
