{
 "cells": [
  {
   "cell_type": "markdown",
   "metadata": {},
   "source": [
    "# Importation des données"
   ]
  },
  {
   "cell_type": "code",
   "execution_count": 59,
   "metadata": {},
   "outputs": [
    {
     "data": {
      "text/html": [
       "<div>\n",
       "<style scoped>\n",
       "    .dataframe tbody tr th:only-of-type {\n",
       "        vertical-align: middle;\n",
       "    }\n",
       "\n",
       "    .dataframe tbody tr th {\n",
       "        vertical-align: top;\n",
       "    }\n",
       "\n",
       "    .dataframe thead th {\n",
       "        text-align: right;\n",
       "    }\n",
       "</style>\n",
       "<table border=\"1\" class=\"dataframe\">\n",
       "  <thead>\n",
       "    <tr style=\"text-align: right;\">\n",
       "      <th></th>\n",
       "      <th>sexe</th>\n",
       "      <th>num_circo</th>\n",
       "      <th>mandat_fin</th>\n",
       "      <th>ancien_depute</th>\n",
       "      <th>anciens_autres_mandats</th>\n",
       "      <th>nb_mandats</th>\n",
       "      <th>ancrage_local</th>\n",
       "      <th>Unnamed: 0</th>\n",
       "      <th>Code de la circonscription</th>\n",
       "      <th>Inscrits_x</th>\n",
       "      <th>...</th>\n",
       "      <th>C13_F15P_cs3</th>\n",
       "      <th>C13_F15P_cs4</th>\n",
       "      <th>C13_F15P_cs5</th>\n",
       "      <th>C13_F15P_cs6</th>\n",
       "      <th>C13_F15P_cs7</th>\n",
       "      <th>C13_F15P_cs8</th>\n",
       "      <th>P13_rp</th>\n",
       "      <th>C13_pmen</th>\n",
       "      <th>C13_pmen_menfam</th>\n",
       "      <th>C13_pmen_menseul</th>\n",
       "    </tr>\n",
       "  </thead>\n",
       "  <tbody>\n",
       "    <tr>\n",
       "      <th>count</th>\n",
       "      <td>562.000000</td>\n",
       "      <td>562.000000</td>\n",
       "      <td>0.0</td>\n",
       "      <td>562.0</td>\n",
       "      <td>0.0</td>\n",
       "      <td>562.000000</td>\n",
       "      <td>562.000000</td>\n",
       "      <td>523.000000</td>\n",
       "      <td>523.000000</td>\n",
       "      <td>523.000000</td>\n",
       "      <td>...</td>\n",
       "      <td>523.000000</td>\n",
       "      <td>523.000000</td>\n",
       "      <td>523.000000</td>\n",
       "      <td>523.000000</td>\n",
       "      <td>523.000000</td>\n",
       "      <td>523.000000</td>\n",
       "      <td>523.000000</td>\n",
       "      <td>523.000000</td>\n",
       "      <td>523.000000</td>\n",
       "      <td>523.000000</td>\n",
       "    </tr>\n",
       "    <tr>\n",
       "      <th>mean</th>\n",
       "      <td>0.585409</td>\n",
       "      <td>4.594306</td>\n",
       "      <td>NaN</td>\n",
       "      <td>0.0</td>\n",
       "      <td>NaN</td>\n",
       "      <td>1.252669</td>\n",
       "      <td>0.441281</td>\n",
       "      <td>268.833652</td>\n",
       "      <td>4.673040</td>\n",
       "      <td>82399.728489</td>\n",
       "      <td>...</td>\n",
       "      <td>3528.150266</td>\n",
       "      <td>7269.985640</td>\n",
       "      <td>12157.473992</td>\n",
       "      <td>2382.261463</td>\n",
       "      <td>14340.333539</td>\n",
       "      <td>10207.082413</td>\n",
       "      <td>51591.856817</td>\n",
       "      <td>115504.032314</td>\n",
       "      <td>94362.596751</td>\n",
       "      <td>17947.400740</td>\n",
       "    </tr>\n",
       "    <tr>\n",
       "      <th>std</th>\n",
       "      <td>0.493090</td>\n",
       "      <td>3.628836</td>\n",
       "      <td>NaN</td>\n",
       "      <td>0.0</td>\n",
       "      <td>NaN</td>\n",
       "      <td>0.451026</td>\n",
       "      <td>0.496982</td>\n",
       "      <td>155.152690</td>\n",
       "      <td>3.677385</td>\n",
       "      <td>13077.062051</td>\n",
       "      <td>...</td>\n",
       "      <td>2832.714996</td>\n",
       "      <td>1822.595567</td>\n",
       "      <td>2019.729437</td>\n",
       "      <td>968.519591</td>\n",
       "      <td>3185.017624</td>\n",
       "      <td>2707.020243</td>\n",
       "      <td>7427.738839</td>\n",
       "      <td>14540.910245</td>\n",
       "      <td>13881.498092</td>\n",
       "      <td>5648.826034</td>\n",
       "    </tr>\n",
       "    <tr>\n",
       "      <th>min</th>\n",
       "      <td>0.000000</td>\n",
       "      <td>1.000000</td>\n",
       "      <td>NaN</td>\n",
       "      <td>0.0</td>\n",
       "      <td>NaN</td>\n",
       "      <td>1.000000</td>\n",
       "      <td>0.000000</td>\n",
       "      <td>0.000000</td>\n",
       "      <td>1.000000</td>\n",
       "      <td>47495.000000</td>\n",
       "      <td>...</td>\n",
       "      <td>650.501537</td>\n",
       "      <td>2545.317443</td>\n",
       "      <td>6508.447353</td>\n",
       "      <td>553.972847</td>\n",
       "      <td>5459.822579</td>\n",
       "      <td>3735.407563</td>\n",
       "      <td>29174.337169</td>\n",
       "      <td>62061.257954</td>\n",
       "      <td>49560.385744</td>\n",
       "      <td>8531.038018</td>\n",
       "    </tr>\n",
       "    <tr>\n",
       "      <th>25%</th>\n",
       "      <td>0.000000</td>\n",
       "      <td>2.000000</td>\n",
       "      <td>NaN</td>\n",
       "      <td>0.0</td>\n",
       "      <td>NaN</td>\n",
       "      <td>1.000000</td>\n",
       "      <td>0.000000</td>\n",
       "      <td>134.500000</td>\n",
       "      <td>2.000000</td>\n",
       "      <td>73196.000000</td>\n",
       "      <td>...</td>\n",
       "      <td>1791.937920</td>\n",
       "      <td>5962.485091</td>\n",
       "      <td>10958.595129</td>\n",
       "      <td>1669.005867</td>\n",
       "      <td>12145.930467</td>\n",
       "      <td>8396.193104</td>\n",
       "      <td>46923.420863</td>\n",
       "      <td>107270.406390</td>\n",
       "      <td>85358.741637</td>\n",
       "      <td>14224.959986</td>\n",
       "    </tr>\n",
       "    <tr>\n",
       "      <th>50%</th>\n",
       "      <td>1.000000</td>\n",
       "      <td>3.500000</td>\n",
       "      <td>NaN</td>\n",
       "      <td>0.0</td>\n",
       "      <td>NaN</td>\n",
       "      <td>1.000000</td>\n",
       "      <td>0.000000</td>\n",
       "      <td>270.000000</td>\n",
       "      <td>4.000000</td>\n",
       "      <td>82224.000000</td>\n",
       "      <td>...</td>\n",
       "      <td>2501.894530</td>\n",
       "      <td>7248.562767</td>\n",
       "      <td>12194.197146</td>\n",
       "      <td>2299.769776</td>\n",
       "      <td>14100.284419</td>\n",
       "      <td>9755.610607</td>\n",
       "      <td>51324.535346</td>\n",
       "      <td>116586.796270</td>\n",
       "      <td>94448.125428</td>\n",
       "      <td>16557.248717</td>\n",
       "    </tr>\n",
       "    <tr>\n",
       "      <th>75%</th>\n",
       "      <td>1.000000</td>\n",
       "      <td>6.000000</td>\n",
       "      <td>NaN</td>\n",
       "      <td>0.0</td>\n",
       "      <td>NaN</td>\n",
       "      <td>1.000000</td>\n",
       "      <td>1.000000</td>\n",
       "      <td>402.500000</td>\n",
       "      <td>6.000000</td>\n",
       "      <td>91043.500000</td>\n",
       "      <td>...</td>\n",
       "      <td>4165.640299</td>\n",
       "      <td>8456.313015</td>\n",
       "      <td>13486.219436</td>\n",
       "      <td>2978.967436</td>\n",
       "      <td>16319.809399</td>\n",
       "      <td>11685.477243</td>\n",
       "      <td>56194.171777</td>\n",
       "      <td>125081.031274</td>\n",
       "      <td>103968.802699</td>\n",
       "      <td>19967.909622</td>\n",
       "    </tr>\n",
       "    <tr>\n",
       "      <th>max</th>\n",
       "      <td>1.000000</td>\n",
       "      <td>21.000000</td>\n",
       "      <td>NaN</td>\n",
       "      <td>0.0</td>\n",
       "      <td>NaN</td>\n",
       "      <td>3.000000</td>\n",
       "      <td>1.000000</td>\n",
       "      <td>535.000000</td>\n",
       "      <td>21.000000</td>\n",
       "      <td>122015.000000</td>\n",
       "      <td>...</td>\n",
       "      <td>18038.115750</td>\n",
       "      <td>12400.651328</td>\n",
       "      <td>17265.991066</td>\n",
       "      <td>6795.852864</td>\n",
       "      <td>28524.402610</td>\n",
       "      <td>22821.670961</td>\n",
       "      <td>74797.848657</td>\n",
       "      <td>149004.952996</td>\n",
       "      <td>130537.774946</td>\n",
       "      <td>41434.755216</td>\n",
       "    </tr>\n",
       "  </tbody>\n",
       "</table>\n",
       "<p>8 rows × 212 columns</p>\n",
       "</div>"
      ],
      "text/plain": [
       "             sexe   num_circo  mandat_fin  ancien_depute  \\\n",
       "count  562.000000  562.000000         0.0          562.0   \n",
       "mean     0.585409    4.594306         NaN            0.0   \n",
       "std      0.493090    3.628836         NaN            0.0   \n",
       "min      0.000000    1.000000         NaN            0.0   \n",
       "25%      0.000000    2.000000         NaN            0.0   \n",
       "50%      1.000000    3.500000         NaN            0.0   \n",
       "75%      1.000000    6.000000         NaN            0.0   \n",
       "max      1.000000   21.000000         NaN            0.0   \n",
       "\n",
       "       anciens_autres_mandats  nb_mandats  ancrage_local  Unnamed: 0  \\\n",
       "count                     0.0  562.000000     562.000000  523.000000   \n",
       "mean                      NaN    1.252669       0.441281  268.833652   \n",
       "std                       NaN    0.451026       0.496982  155.152690   \n",
       "min                       NaN    1.000000       0.000000    0.000000   \n",
       "25%                       NaN    1.000000       0.000000  134.500000   \n",
       "50%                       NaN    1.000000       0.000000  270.000000   \n",
       "75%                       NaN    1.000000       1.000000  402.500000   \n",
       "max                       NaN    3.000000       1.000000  535.000000   \n",
       "\n",
       "       Code de la circonscription     Inscrits_x  ...  C13_F15P_cs3  \\\n",
       "count                  523.000000     523.000000  ...    523.000000   \n",
       "mean                     4.673040   82399.728489  ...   3528.150266   \n",
       "std                      3.677385   13077.062051  ...   2832.714996   \n",
       "min                      1.000000   47495.000000  ...    650.501537   \n",
       "25%                      2.000000   73196.000000  ...   1791.937920   \n",
       "50%                      4.000000   82224.000000  ...   2501.894530   \n",
       "75%                      6.000000   91043.500000  ...   4165.640299   \n",
       "max                     21.000000  122015.000000  ...  18038.115750   \n",
       "\n",
       "       C13_F15P_cs4  C13_F15P_cs5  C13_F15P_cs6  C13_F15P_cs7  C13_F15P_cs8  \\\n",
       "count    523.000000    523.000000    523.000000    523.000000    523.000000   \n",
       "mean    7269.985640  12157.473992   2382.261463  14340.333539  10207.082413   \n",
       "std     1822.595567   2019.729437    968.519591   3185.017624   2707.020243   \n",
       "min     2545.317443   6508.447353    553.972847   5459.822579   3735.407563   \n",
       "25%     5962.485091  10958.595129   1669.005867  12145.930467   8396.193104   \n",
       "50%     7248.562767  12194.197146   2299.769776  14100.284419   9755.610607   \n",
       "75%     8456.313015  13486.219436   2978.967436  16319.809399  11685.477243   \n",
       "max    12400.651328  17265.991066   6795.852864  28524.402610  22821.670961   \n",
       "\n",
       "             P13_rp       C13_pmen  C13_pmen_menfam  C13_pmen_menseul  \n",
       "count    523.000000     523.000000       523.000000        523.000000  \n",
       "mean   51591.856817  115504.032314     94362.596751      17947.400740  \n",
       "std     7427.738839   14540.910245     13881.498092       5648.826034  \n",
       "min    29174.337169   62061.257954     49560.385744       8531.038018  \n",
       "25%    46923.420863  107270.406390     85358.741637      14224.959986  \n",
       "50%    51324.535346  116586.796270     94448.125428      16557.248717  \n",
       "75%    56194.171777  125081.031274    103968.802699      19967.909622  \n",
       "max    74797.848657  149004.952996    130537.774946      41434.755216  \n",
       "\n",
       "[8 rows x 212 columns]"
      ]
     },
     "execution_count": 59,
     "metadata": {},
     "output_type": "execute_result"
    }
   ],
   "source": [
    "import seaborn as sns\n",
    "import pandas as pd\n",
    "\n",
    "circo = pd.read_csv(\"/Users/louise/Documents/GitHub/projetpython/1. Rassemblement des données/basefinale.csv\", \";\")\n",
    "deputes = pd.read_csv(\"/Users/louise/Documents/GitHub/projetpython/1. Rassemblement des données/caract_deputes.csv\", \";\")\n",
    "deputes[\"cat_soc_pro\"] = deputes[\"cat_soc_pro\"].fillna(\"Inconnue\")\n",
    "deputes[\"DEPCIR\"] = deputes[\"DEPSIR\"]\n",
    "basevraimentfinale = pd.merge(deputes, circo, on=['DEPCIR'], how='left')\n",
    "basevraimentfinale.describe()"
   ]
  },
  {
   "cell_type": "markdown",
   "metadata": {},
   "source": [
    "# Création des barplots"
   ]
  },
  {
   "cell_type": "code",
   "execution_count": 68,
   "metadata": {},
   "outputs": [
    {
     "data": {
      "text/plain": [
       "Index(['nom', 'nom_de_famille', 'prenom', 'sexe', 'date_naissance',\n",
       "       'num_deptmt', 'nom_circo', 'num_circo', 'mandat_debut', 'mandat_fin',\n",
       "       ...\n",
       "       'C13_F15P_cs3', 'C13_F15P_cs4', 'C13_F15P_cs5', 'C13_F15P_cs6',\n",
       "       'C13_F15P_cs7', 'C13_F15P_cs8', 'P13_rp', 'C13_pmen', 'C13_pmen_menfam',\n",
       "       'C13_pmen_menseul'],\n",
       "      dtype='object', length=357)"
      ]
     },
     "execution_count": 68,
     "metadata": {},
     "output_type": "execute_result"
    }
   ],
   "source": [
    "deputes['cat_soc_pro'].unique()\n",
    "len(deputes['cat_soc_pro'].unique())\n",
    "pd.set_option('display.max_columns', None)\n",
    "basevraimentfinale.columns"
   ]
  },
  {
   "cell_type": "code",
   "execution_count": 25,
   "metadata": {},
   "outputs": [
    {
     "ename": "AttributeError",
     "evalue": "'OneHotEncoder' object has no attribute 'pcs'",
     "output_type": "error",
     "traceback": [
      "\u001b[0;31m---------------------------------------------------------------------------\u001b[0m",
      "\u001b[0;31mAttributeError\u001b[0m                            Traceback (most recent call last)",
      "\u001b[0;32m<ipython-input-25-f2e0519162a9>\u001b[0m in \u001b[0;36m<module>\u001b[0;34m\u001b[0m\n\u001b[1;32m      1\u001b[0m \u001b[0;32mfrom\u001b[0m \u001b[0msklearn\u001b[0m\u001b[0;34m.\u001b[0m\u001b[0mpreprocessing\u001b[0m \u001b[0;32mimport\u001b[0m \u001b[0mOneHotEncoder\u001b[0m\u001b[0;34m\u001b[0m\u001b[0;34m\u001b[0m\u001b[0m\n\u001b[1;32m      2\u001b[0m \u001b[0menc\u001b[0m \u001b[0;34m=\u001b[0m \u001b[0mOneHotEncoder\u001b[0m\u001b[0;34m(\u001b[0m\u001b[0mhandle_unknown\u001b[0m\u001b[0;34m=\u001b[0m\u001b[0;34m'ignore'\u001b[0m\u001b[0;34m)\u001b[0m\u001b[0;34m\u001b[0m\u001b[0;34m\u001b[0m\u001b[0m\n\u001b[0;32m----> 3\u001b[0;31m enc.pcs[array(['Professions libérales et assimilés', 'Commerçants et assimilés',\n\u001b[0m\u001b[1;32m      4\u001b[0m        \u001b[0;34m\"Cadres d'entreprise\"\u001b[0m\u001b[0;34m,\u001b[0m \u001b[0;34m\"Chefs d'entreprise de 10 salariés ou plus\"\u001b[0m\u001b[0;34m,\u001b[0m\u001b[0;34m\u001b[0m\u001b[0;34m\u001b[0m\u001b[0m\n\u001b[1;32m      5\u001b[0m        \u001b[0;34m'Cadres de la fonction publique, professions intellectuelles et  artistiques'\u001b[0m\u001b[0;34m,\u001b[0m\u001b[0;34m\u001b[0m\u001b[0;34m\u001b[0m\u001b[0m\n",
      "\u001b[0;31mAttributeError\u001b[0m: 'OneHotEncoder' object has no attribute 'pcs'"
     ]
    }
   ],
   "source": [
    "from sklearn.preprocessing import OneHotEncoder\n",
    "enc = OneHotEncoder(handle_unknown='ignore')\n",
    "enc.pcs[array(['Professions libérales et assimilés', 'Commerçants et assimilés',\n",
    "       \"Cadres d'entreprise\", \"Chefs d'entreprise de 10 salariés ou plus\",\n",
    "       'Cadres de la fonction publique, professions intellectuelles et  artistiques',\n",
    "       'Artisans',\n",
    "       \"Professions intermédiaires de l'enseignement, de la santé, de la fonction publique et assimilés\",\n",
    "       'Employés de la fonction publique', 'Sans profession déclarée',\n",
    "       'Agriculteurs exploitants', \"Employés administratifs d'entreprise\",\n",
    "       'Employés de commerce', 'Contremaîtres, agents de maîtrise',\n",
    "       'Ouvriers agricoles', 'Anciens employés et ouvriers',\n",
    "       'Ouvriers qualifiés',\n",
    "       'Anciens cadres et professions intermédiaires',\n",
    "       'Professions intermédiaires administratives et commerciales des entreprises',\n",
    "       'Anciens agriculteurs exploitants',\n",
    "       \"Anciens artisans, commerçants, chefs d'entreprise\",\n",
    "       'Inactifs divers (autres que retraités)', \"Inconnue\"], dtype=object), array([1, 2, 3, 4, 5, 6, 7, 8, 9, 10, 11, 12, 13, 14, 15, 16, 17, 18, 19, 20, 21, 22], dtype=object)]\n",
    "\n",
    "pcs_dep = sns.histplot(data = deputes, x = \"pcs\", stat='count')"
   ]
  },
  {
   "cell_type": "code",
   "execution_count": 34,
   "metadata": {},
   "outputs": [
    {
     "data": {
      "image/png": "[encoded data removed]",
      "text/plain": [
       "<Figure size 432x288 with 1 Axes>"
      ]
     },
     "metadata": {
      "needs_background": "light"
     },
     "output_type": "display_data"
    }
   ],
   "source": [
    "sexe_depute = sns.histplot(data = deputes, x = \"sexe\", stat='probability')"
   ]
  },
  {
   "cell_type": "code",
   "execution_count": 35,
   "metadata": {},
   "outputs": [
    {
     "data": {
      "image/png": "[encoded data removed]",
      "text/plain": [
       "<Figure size 432x288 with 1 Axes>"
      ]
     },
     "metadata": {
      "needs_background": "light"
     },
     "output_type": "display_data"
    }
   ],
   "source": [
    "ancrage_local_depute = sns.histplot(data = deputes, x = \"ancrage_local\", stat='probability')"
   ]
  },
  {
   "cell_type": "code",
   "execution_count": 42,
   "metadata": {},
   "outputs": [
    {
     "data": {
      "image/png": "[encoded data removed]",
      "text/plain": [
       "<Figure size 432x288 with 1 Axes>"
      ]
     },
     "metadata": {
      "needs_background": "light"
     },
     "output_type": "display_data"
    }
   ],
   "source": [
    "deputes['annee_naissance'] = deputes['date_naissance'].str[:4]\n",
    "annee_naiss_dep = sns.histplot(data = deputes, x = \"annee_naissance\", stat='probability', bins = )"
   ]
  },
  {
   "cell_type": "code",
   "execution_count": 60,
   "metadata": {},
   "outputs": [
    {
     "data": {
      "image/png": "[encoded data removed]",
      "text/plain": [
       "<Figure size 432x288 with 1 Axes>"
      ]
     },
     "metadata": {
      "needs_background": "light"
     },
     "output_type": "display_data"
    }
   ],
   "source": [
    "nb_mandats_dep = sns.histplot(data = basevraimentfinale, x = 'nb_mandats', stat='probability')"
   ]
  },
  {
   "cell_type": "code",
   "execution_count": 61,
   "metadata": {},
   "outputs": [
    {
     "data": {
      "image/png": "[encoded data removed]",
      "text/plain": [
       "<Figure size 432x288 with 1 Axes>"
      ]
     },
     "metadata": {
      "needs_background": "light"
     },
     "output_type": "display_data"
    }
   ],
   "source": [
    "#ancien_depute = sns.histplot(data = basevraimentfinale, x = 'ancien_depute', stat='probability')"
   ]
  },
  {
   "cell_type": "markdown",
   "metadata": {},
   "source": [
    "# Création des pairplots et heatmap"
   ]
  },
  {
   "cell_type": "code",
   "execution_count": null,
   "metadata": {},
   "outputs": [],
   "source": [
    "essai = basevraimenfinale.iloc[:,[0,2]])\n",
    "\n",
    "= sns.heatmap(basevraimentfinale, )"
   ]
  },
  {
   "cell_type": "code",
   "execution_count": null,
   "metadata": {},
   "outputs": [],
   "source": []
  },
  {
   "cell_type": "code",
   "execution_count": null,
   "metadata": {},
   "outputs": [],
   "source": []
  }
 ],
 "metadata": {
  "kernelspec": {
   "display_name": "Python 3",
   "language": "python",
   "name": "python3"
  },
  "language_info": {
   "codemirror_mode": {
    "name": "ipython",
    "version": 3
   },
   "file_extension": ".py",
   "mimetype": "text/x-python",
   "name": "python",
   "nbconvert_exporter": "python",
   "pygments_lexer": "ipython3",
   "version": "3.8.5"
  }
 },
 "nbformat": 4,
 "nbformat_minor": 4
}
